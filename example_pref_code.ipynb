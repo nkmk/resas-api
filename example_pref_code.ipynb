{
 "cells": [
  {
   "cell_type": "code",
   "execution_count": 1,
   "metadata": {
    "collapsed": true
   },
   "outputs": [],
   "source": [
    "import json\n",
    "import urllib.request\n",
    "import pprint\n",
    "import pandas as pd"
   ]
  },
  {
   "cell_type": "code",
   "execution_count": 2,
   "metadata": {},
   "outputs": [
    {
     "name": "stdout",
     "output_type": "stream",
     "text": [
      "{\"X-API-KEY\":\"xxxxxxxxxxxxxxxxxxxxxxxxxxxxxxxxxxxxxxx\"}\n"
     ]
    }
   ],
   "source": [
    "with open('setting/api_key_sample.json') as f:\n",
    "    print(f.read())"
   ]
  },
  {
   "cell_type": "code",
   "execution_count": 3,
   "metadata": {
    "collapsed": true
   },
   "outputs": [],
   "source": [
    "with open('setting/api_key_sample.json') as f:\n",
    "    api_key_sample = json.load(f)"
   ]
  },
  {
   "cell_type": "code",
   "execution_count": 4,
   "metadata": {},
   "outputs": [
    {
     "name": "stdout",
     "output_type": "stream",
     "text": [
      "{'X-API-KEY': 'xxxxxxxxxxxxxxxxxxxxxxxxxxxxxxxxxxxxxxx'}\n"
     ]
    }
   ],
   "source": [
    "print(api_key_sample)"
   ]
  },
  {
   "cell_type": "code",
   "execution_count": 5,
   "metadata": {},
   "outputs": [
    {
     "name": "stdout",
     "output_type": "stream",
     "text": [
      "<class 'dict'>\n"
     ]
    }
   ],
   "source": [
    "print(type(api_key_sample))"
   ]
  },
  {
   "cell_type": "code",
   "execution_count": 6,
   "metadata": {
    "collapsed": true
   },
   "outputs": [],
   "source": [
    "with open('setting/api_key.json') as f:\n",
    "    api_key = json.load(f)"
   ]
  },
  {
   "cell_type": "code",
   "execution_count": 7,
   "metadata": {
    "collapsed": true
   },
   "outputs": [],
   "source": [
    "url = 'https://opendata.resas-portal.go.jp/api/v1/prefectures'"
   ]
  },
  {
   "cell_type": "code",
   "execution_count": 8,
   "metadata": {
    "collapsed": true
   },
   "outputs": [],
   "source": [
    "req = urllib.request.Request(url, headers=api_key)"
   ]
  },
  {
   "cell_type": "code",
   "execution_count": 9,
   "metadata": {},
   "outputs": [
    {
     "name": "stdout",
     "output_type": "stream",
     "text": [
      "<class 'urllib.request.Request'>\n"
     ]
    }
   ],
   "source": [
    "print(type(req))"
   ]
  },
  {
   "cell_type": "code",
   "execution_count": 10,
   "metadata": {
    "collapsed": true
   },
   "outputs": [],
   "source": [
    "with urllib.request.urlopen(req) as response:\n",
    "    data = response.read()"
   ]
  },
  {
   "cell_type": "code",
   "execution_count": 11,
   "metadata": {},
   "outputs": [
    {
     "name": "stdout",
     "output_type": "stream",
     "text": [
      "<class 'bytes'>\n"
     ]
    }
   ],
   "source": [
    "print(type(data))"
   ]
  },
  {
   "cell_type": "code",
   "execution_count": 12,
   "metadata": {
    "collapsed": true
   },
   "outputs": [],
   "source": [
    "d = json.loads(data.decode())"
   ]
  },
  {
   "cell_type": "code",
   "execution_count": 13,
   "metadata": {},
   "outputs": [
    {
     "name": "stdout",
     "output_type": "stream",
     "text": [
      "{'message': None,\n",
      " 'result': [{'prefCode': 1, 'prefName': '北海道'},\n",
      "            {'prefCode': 2, 'prefName': '青森県'},\n",
      "            {'prefCode': 3, 'prefName': '岩手県'},\n",
      "            {'prefCode': 4, 'prefName': '宮城県'},\n",
      "            {'prefCode': 5, 'prefName': '秋田県'},\n",
      "            {'prefCode': 6, 'prefName': '山形県'},\n",
      "            {'prefCode': 7, 'prefName': '福島県'},\n",
      "            {'prefCode': 8, 'prefName': '茨城県'},\n",
      "            {'prefCode': 9, 'prefName': '栃木県'},\n",
      "            {'prefCode': 10, 'prefName': '群馬県'},\n",
      "            {'prefCode': 11, 'prefName': '埼玉県'},\n",
      "            {'prefCode': 12, 'prefName': '千葉県'},\n",
      "            {'prefCode': 13, 'prefName': '東京都'},\n",
      "            {'prefCode': 14, 'prefName': '神奈川県'},\n",
      "            {'prefCode': 15, 'prefName': '新潟県'},\n",
      "            {'prefCode': 16, 'prefName': '富山県'},\n",
      "            {'prefCode': 17, 'prefName': '石川県'},\n",
      "            {'prefCode': 18, 'prefName': '福井県'},\n",
      "            {'prefCode': 19, 'prefName': '山梨県'},\n",
      "            {'prefCode': 20, 'prefName': '長野県'},\n",
      "            {'prefCode': 21, 'prefName': '岐阜県'},\n",
      "            {'prefCode': 22, 'prefName': '静岡県'},\n",
      "            {'prefCode': 23, 'prefName': '愛知県'},\n",
      "            {'prefCode': 24, 'prefName': '三重県'},\n",
      "            {'prefCode': 25, 'prefName': '滋賀県'},\n",
      "            {'prefCode': 26, 'prefName': '京都府'},\n",
      "            {'prefCode': 27, 'prefName': '大阪府'},\n",
      "            {'prefCode': 28, 'prefName': '兵庫県'},\n",
      "            {'prefCode': 29, 'prefName': '奈良県'},\n",
      "            {'prefCode': 30, 'prefName': '和歌山県'},\n",
      "            {'prefCode': 31, 'prefName': '鳥取県'},\n",
      "            {'prefCode': 32, 'prefName': '島根県'},\n",
      "            {'prefCode': 33, 'prefName': '岡山県'},\n",
      "            {'prefCode': 34, 'prefName': '広島県'},\n",
      "            {'prefCode': 35, 'prefName': '山口県'},\n",
      "            {'prefCode': 36, 'prefName': '徳島県'},\n",
      "            {'prefCode': 37, 'prefName': '香川県'},\n",
      "            {'prefCode': 38, 'prefName': '愛媛県'},\n",
      "            {'prefCode': 39, 'prefName': '高知県'},\n",
      "            {'prefCode': 40, 'prefName': '福岡県'},\n",
      "            {'prefCode': 41, 'prefName': '佐賀県'},\n",
      "            {'prefCode': 42, 'prefName': '長崎県'},\n",
      "            {'prefCode': 43, 'prefName': '熊本県'},\n",
      "            {'prefCode': 44, 'prefName': '大分県'},\n",
      "            {'prefCode': 45, 'prefName': '宮崎県'},\n",
      "            {'prefCode': 46, 'prefName': '鹿児島県'},\n",
      "            {'prefCode': 47, 'prefName': '沖縄県'}]}\n"
     ]
    }
   ],
   "source": [
    "pprint.pprint(d)"
   ]
  },
  {
   "cell_type": "code",
   "execution_count": 14,
   "metadata": {
    "collapsed": true
   },
   "outputs": [],
   "source": [
    "with open('download/pref_code_list.json', 'w') as f:\n",
    "    json.dump(d, f, ensure_ascii=False, indent=4)"
   ]
  },
  {
   "cell_type": "code",
   "execution_count": 15,
   "metadata": {},
   "outputs": [
    {
     "name": "stdout",
     "output_type": "stream",
     "text": [
      "   prefCode prefName\n",
      "0         1      北海道\n",
      "1         2      青森県\n",
      "2         3      岩手県\n",
      "3         4      宮城県\n",
      "4         5      秋田県\n"
     ]
    }
   ],
   "source": [
    "df = pd.io.json.json_normalize(d['result'])\n",
    "print(df.head())"
   ]
  },
  {
   "cell_type": "code",
   "execution_count": 16,
   "metadata": {},
   "outputs": [
    {
     "name": "stdout",
     "output_type": "stream",
     "text": [
      "prefCode\n",
      "1    北海道\n",
      "2    青森県\n",
      "3    岩手県\n",
      "4    宮城県\n",
      "5    秋田県\n",
      "Name: prefName, dtype: object\n"
     ]
    }
   ],
   "source": [
    "s_code = df.set_index('prefCode')['prefName']\n",
    "print(s_code.head())"
   ]
  },
  {
   "cell_type": "code",
   "execution_count": 17,
   "metadata": {},
   "outputs": [
    {
     "name": "stdout",
     "output_type": "stream",
     "text": [
      "東京都\n"
     ]
    }
   ],
   "source": [
    "print(s_code[13])"
   ]
  },
  {
   "cell_type": "code",
   "execution_count": 18,
   "metadata": {
    "collapsed": true
   },
   "outputs": [],
   "source": [
    "# print(s_code[100])\n",
    "# KeyError: 100"
   ]
  },
  {
   "cell_type": "code",
   "execution_count": 19,
   "metadata": {
    "collapsed": true
   },
   "outputs": [],
   "source": [
    "d_code = df.set_index('prefCode')['prefName'].to_dict()"
   ]
  },
  {
   "cell_type": "code",
   "execution_count": 20,
   "metadata": {},
   "outputs": [
    {
     "name": "stdout",
     "output_type": "stream",
     "text": [
      "東京都\n"
     ]
    }
   ],
   "source": [
    "print(d_code[13])"
   ]
  },
  {
   "cell_type": "code",
   "execution_count": 21,
   "metadata": {
    "collapsed": true
   },
   "outputs": [],
   "source": [
    "# print(d_code[100])\n",
    "# KeyError: 100"
   ]
  },
  {
   "cell_type": "code",
   "execution_count": 22,
   "metadata": {},
   "outputs": [
    {
     "name": "stdout",
     "output_type": "stream",
     "text": [
      "東京都\n"
     ]
    }
   ],
   "source": [
    "print(d_code.get(13))"
   ]
  },
  {
   "cell_type": "code",
   "execution_count": 23,
   "metadata": {},
   "outputs": [
    {
     "name": "stdout",
     "output_type": "stream",
     "text": [
      "None\n"
     ]
    }
   ],
   "source": [
    "print(d_code.get(100))"
   ]
  },
  {
   "cell_type": "code",
   "execution_count": 24,
   "metadata": {},
   "outputs": [
    {
     "name": "stdout",
     "output_type": "stream",
     "text": [
      "prefName\n",
      "北海道    1\n",
      "青森県    2\n",
      "岩手県    3\n",
      "宮城県    4\n",
      "秋田県    5\n",
      "Name: prefCode, dtype: int64\n"
     ]
    }
   ],
   "source": [
    "s_name = df.set_index('prefName')['prefCode']\n",
    "print(s_name.head())"
   ]
  },
  {
   "cell_type": "code",
   "execution_count": 25,
   "metadata": {},
   "outputs": [
    {
     "name": "stdout",
     "output_type": "stream",
     "text": [
      "13\n"
     ]
    }
   ],
   "source": [
    "print(s_name['東京都'])"
   ]
  },
  {
   "cell_type": "code",
   "execution_count": 26,
   "metadata": {
    "collapsed": true
   },
   "outputs": [],
   "source": [
    "d_name = df.set_index('prefName')['prefCode'].to_dict()"
   ]
  },
  {
   "cell_type": "code",
   "execution_count": 27,
   "metadata": {},
   "outputs": [
    {
     "name": "stdout",
     "output_type": "stream",
     "text": [
      "13\n"
     ]
    }
   ],
   "source": [
    "print(d_name['東京都'])"
   ]
  },
  {
   "cell_type": "code",
   "execution_count": 28,
   "metadata": {},
   "outputs": [
    {
     "name": "stdout",
     "output_type": "stream",
     "text": [
      "13\n"
     ]
    }
   ],
   "source": [
    "print(d_name.get('東京都'))"
   ]
  },
  {
   "cell_type": "code",
   "execution_count": 29,
   "metadata": {
    "collapsed": true
   },
   "outputs": [],
   "source": [
    "df.to_csv('download/pref_code_list.csv', index=None)"
   ]
  },
  {
   "cell_type": "code",
   "execution_count": 30,
   "metadata": {},
   "outputs": [
    {
     "name": "stdout",
     "output_type": "stream",
     "text": [
      "   prefCode prefName\n",
      "0         1      北海道\n",
      "1         2      青森県\n",
      "2         3      岩手県\n",
      "3         4      宮城県\n",
      "4         5      秋田県\n"
     ]
    }
   ],
   "source": [
    "df_from_csv = pd.read_csv('download/pref_code_list.csv')\n",
    "print(df_from_csv.head())"
   ]
  }
 ],
 "metadata": {
  "kernelspec": {
   "display_name": "Python 3",
   "language": "python",
   "name": "python3"
  },
  "language_info": {
   "codemirror_mode": {
    "name": "ipython",
    "version": 3
   },
   "file_extension": ".py",
   "mimetype": "text/x-python",
   "name": "python",
   "nbconvert_exporter": "python",
   "pygments_lexer": "ipython3",
   "version": "3.6.5"
  }
 },
 "nbformat": 4,
 "nbformat_minor": 2
}
