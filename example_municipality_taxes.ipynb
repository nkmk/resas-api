{
 "cells": [
  {
   "cell_type": "code",
   "execution_count": 1,
   "metadata": {
    "collapsed": true
   },
   "outputs": [],
   "source": [
    "import json\n",
    "import urllib.parse\n",
    "import urllib.request\n",
    "import pprint\n",
    "import pandas as pd"
   ]
  },
  {
   "cell_type": "code",
   "execution_count": 2,
   "metadata": {
    "collapsed": true
   },
   "outputs": [],
   "source": [
    "url_base = 'https://opendata.resas-portal.go.jp/api/v1/municipality/taxes/perYear'"
   ]
  },
  {
   "cell_type": "code",
   "execution_count": 3,
   "metadata": {},
   "outputs": [
    {
     "name": "stdout",
     "output_type": "stream",
     "text": [
      "https://opendata.resas-portal.go.jp/api/v1/municipality/taxes/perYear?prefCode=13&cityCode=13103\n"
     ]
    }
   ],
   "source": [
    "p = {'prefCode': 13, 'cityCode': 13103}\n",
    "url = url_base + '?' + urllib.parse.urlencode(p)\n",
    "print(url)"
   ]
  },
  {
   "cell_type": "code",
   "execution_count": 4,
   "metadata": {
    "collapsed": true
   },
   "outputs": [],
   "source": [
    "with open('setting/api_key.json') as f:\n",
    "    api_key = json.load(f)"
   ]
  },
  {
   "cell_type": "code",
   "execution_count": 5,
   "metadata": {
    "collapsed": true
   },
   "outputs": [],
   "source": [
    "req = urllib.request.Request(url, headers=api_key)"
   ]
  },
  {
   "cell_type": "code",
   "execution_count": 6,
   "metadata": {
    "collapsed": true
   },
   "outputs": [],
   "source": [
    "with urllib.request.urlopen(req) as response:\n",
    "    data = response.read()"
   ]
  },
  {
   "cell_type": "code",
   "execution_count": 7,
   "metadata": {
    "collapsed": true
   },
   "outputs": [],
   "source": [
    "d = json.loads(data.decode())"
   ]
  },
  {
   "cell_type": "code",
   "execution_count": 8,
   "metadata": {},
   "outputs": [
    {
     "name": "stdout",
     "output_type": "stream",
     "text": [
      "{'message': None,\n",
      " 'result': {'cityCode': '13103',\n",
      "            'cityName': '港区',\n",
      "            'data': [{'value': 335, 'year': 2008},\n",
      "                     {'value': 326, 'year': 2009},\n",
      "                     {'value': 286, 'year': 2010},\n",
      "                     {'value': 277, 'year': 2011},\n",
      "                     {'value': 254, 'year': 2012},\n",
      "                     {'value': 262, 'year': 2013},\n",
      "                     {'value': 304, 'year': 2014}],\n",
      "            'prefCode': 13,\n",
      "            'prefName': '東京都'}}\n"
     ]
    }
   ],
   "source": [
    "pprint.pprint(d)"
   ]
  },
  {
   "cell_type": "code",
   "execution_count": 9,
   "metadata": {},
   "outputs": [
    {
     "name": "stdout",
     "output_type": "stream",
     "text": [
      "  cityCode cityName                                               data  \\\n",
      "0    13103       港区  [{'year': 2008, 'value': 335}, {'year': 2009, ...   \n",
      "\n",
      "   prefCode prefName  \n",
      "0        13      東京都  \n"
     ]
    }
   ],
   "source": [
    "print(pd.io.json.json_normalize(d['result']))"
   ]
  },
  {
   "cell_type": "code",
   "execution_count": 10,
   "metadata": {},
   "outputs": [
    {
     "name": "stdout",
     "output_type": "stream",
     "text": [
      "   value  year\n",
      "0    335  2008\n",
      "1    326  2009\n",
      "2    286  2010\n",
      "3    277  2011\n",
      "4    254  2012\n",
      "5    262  2013\n",
      "6    304  2014\n"
     ]
    }
   ],
   "source": [
    "print(pd.io.json.json_normalize(d['result'], record_path='data'))"
   ]
  },
  {
   "cell_type": "code",
   "execution_count": 11,
   "metadata": {},
   "outputs": [
    {
     "name": "stdout",
     "output_type": "stream",
     "text": [
      "   value  year cityCode cityName  prefCode prefName\n",
      "0    335  2008    13103       港区        13      東京都\n",
      "1    326  2009    13103       港区        13      東京都\n",
      "2    286  2010    13103       港区        13      東京都\n",
      "3    277  2011    13103       港区        13      東京都\n",
      "4    254  2012    13103       港区        13      東京都\n",
      "5    262  2013    13103       港区        13      東京都\n",
      "6    304  2014    13103       港区        13      東京都\n"
     ]
    }
   ],
   "source": [
    "print(pd.io.json.json_normalize(d['result'], record_path='data',\n",
    "                                meta=['cityCode', 'cityName', 'prefCode', 'prefName']))"
   ]
  },
  {
   "cell_type": "code",
   "execution_count": 12,
   "metadata": {
    "collapsed": true
   },
   "outputs": [],
   "source": [
    "df_city = pd.read_csv('download/city_code_list.csv')"
   ]
  },
  {
   "cell_type": "code",
   "execution_count": 13,
   "metadata": {},
   "outputs": [
    {
     "name": "stdout",
     "output_type": "stream",
     "text": [
      "      bigCityFlag  cityCode  cityName  prefCode\n",
      "1628            1     40101   北九州市門司区        40\n",
      "1629            1     40103   北九州市若松区        40\n",
      "1630            1     40105   北九州市戸畑区        40\n",
      "1631            1     40106  北九州市小倉北区        40\n",
      "1632            1     40107  北九州市小倉南区        40\n",
      "1633            1     40108  北九州市八幡東区        40\n",
      "1634            1     40109  北九州市八幡西区        40\n",
      "1636            1     40131     福岡市東区        40\n",
      "1637            1     40132    福岡市博多区        40\n",
      "1638            1     40133    福岡市中央区        40\n",
      "1639            1     40134     福岡市南区        40\n",
      "1640            1     40135     福岡市西区        40\n",
      "1641            1     40136    福岡市城南区        40\n",
      "1642            1     40137    福岡市早良区        40\n"
     ]
    }
   ],
   "source": [
    "print(df_city.query('prefCode == 40 & bigCityFlag == 1'))"
   ]
  },
  {
   "cell_type": "code",
   "execution_count": 14,
   "metadata": {},
   "outputs": [],
   "source": [
    "a = df_city.query('prefCode == 40 & bigCityFlag == 1')['cityCode'].values"
   ]
  },
  {
   "cell_type": "code",
   "execution_count": 15,
   "metadata": {},
   "outputs": [
    {
     "name": "stdout",
     "output_type": "stream",
     "text": [
      "[40101 40103 40105 40106 40107 40108 40109 40131 40132 40133 40134 40135\n",
      " 40136 40137]\n"
     ]
    }
   ],
   "source": [
    "print(a)"
   ]
  },
  {
   "cell_type": "code",
   "execution_count": 16,
   "metadata": {},
   "outputs": [
    {
     "name": "stdout",
     "output_type": "stream",
     "text": [
      "<class 'numpy.ndarray'>\n"
     ]
    }
   ],
   "source": [
    "print(type(a))"
   ]
  },
  {
   "cell_type": "code",
   "execution_count": 17,
   "metadata": {},
   "outputs": [
    {
     "name": "stdout",
     "output_type": "stream",
     "text": [
      "40101\n",
      "40103\n",
      "40105\n",
      "40106\n",
      "40107\n",
      "40108\n",
      "40109\n",
      "40131\n",
      "40132\n",
      "40133\n",
      "40134\n",
      "40135\n",
      "40136\n",
      "40137\n"
     ]
    }
   ],
   "source": [
    "for code in a:\n",
    "    print(code)"
   ]
  }
 ],
 "metadata": {
  "kernelspec": {
   "display_name": "Python 3",
   "language": "python",
   "name": "python3"
  },
  "language_info": {
   "codemirror_mode": {
    "name": "ipython",
    "version": 3
   },
   "file_extension": ".py",
   "mimetype": "text/x-python",
   "name": "python",
   "nbconvert_exporter": "python",
   "pygments_lexer": "ipython3",
   "version": "3.6.5"
  }
 },
 "nbformat": 4,
 "nbformat_minor": 2
}
